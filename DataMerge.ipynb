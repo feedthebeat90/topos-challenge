{
 "cells": [
  {
   "cell_type": "markdown",
   "metadata": {},
   "source": [
    "### Extending Cities Table with Pandas"
   ]
  },
  {
   "cell_type": "code",
   "execution_count": 1,
   "metadata": {},
   "outputs": [],
   "source": [
    "import pandas as pd\n",
    "import json\n",
    "from pandas.io.json import json_normalize"
   ]
  },
  {
   "cell_type": "code",
   "execution_count": 2,
   "metadata": {},
   "outputs": [],
   "source": [
    "# Load two different tables we previously got from Wikipedia using WebScraper\n",
    "# URL: \"https://en.wikipedia.org/wiki/List_of_United_States_cities_by_population\"\n",
    "df_cities = pd.read_csv('~/Desktop/Webscraper_Topos_Challenge/output/cities/cities.csv')\n",
    "# URL: \"https://en.wikipedia.org/wiki/List_of_United_States_cities_by_area\"\n",
    "df_areas = pd.read_csv('~/Desktop/Webscraper_Topos_Challenge/output/areas/areas.csv')"
   ]
  },
  {
   "cell_type": "code",
   "execution_count": 3,
   "metadata": {},
   "outputs": [
    {
     "data": {
      "text/html": [
       "<div>\n",
       "<style scoped>\n",
       "    .dataframe tbody tr th:only-of-type {\n",
       "        vertical-align: middle;\n",
       "    }\n",
       "\n",
       "    .dataframe tbody tr th {\n",
       "        vertical-align: top;\n",
       "    }\n",
       "\n",
       "    .dataframe thead th {\n",
       "        text-align: right;\n",
       "    }\n",
       "</style>\n",
       "<table border=\"1\" class=\"dataframe\">\n",
       "  <thead>\n",
       "    <tr style=\"text-align: right;\">\n",
       "      <th></th>\n",
       "      <th>2018rank</th>\n",
       "      <th>City</th>\n",
       "      <th>State</th>\n",
       "      <th>2018estimate</th>\n",
       "      <th>2010Census</th>\n",
       "      <th>Change</th>\n",
       "      <th>2016 land area</th>\n",
       "      <th>2016 land area.1</th>\n",
       "      <th>2016 population density</th>\n",
       "      <th>2016 population density.1</th>\n",
       "      <th>Location</th>\n",
       "    </tr>\n",
       "  </thead>\n",
       "  <tbody>\n",
       "    <tr>\n",
       "      <th>0</th>\n",
       "      <td>1</td>\n",
       "      <td>New York City</td>\n",
       "      <td>New York</td>\n",
       "      <td>8,398,748</td>\n",
       "      <td>8,175,133</td>\n",
       "      <td>+2.74%</td>\n",
       "      <td>301.5 sq mi</td>\n",
       "      <td>780.9 km2</td>\n",
       "      <td>28,317/sq mi</td>\n",
       "      <td>10,933/km2</td>\n",
       "      <td>40°39′49″N 73°56′19″W﻿ / ﻿40.6635°N 73.9387°W﻿...</td>\n",
       "    </tr>\n",
       "    <tr>\n",
       "      <th>1</th>\n",
       "      <td>2</td>\n",
       "      <td>Los Angeles</td>\n",
       "      <td>California</td>\n",
       "      <td>3,990,456</td>\n",
       "      <td>3,792,621</td>\n",
       "      <td>+5.22%</td>\n",
       "      <td>468.7 sq mi</td>\n",
       "      <td>1,213.9 km2</td>\n",
       "      <td>8,484/sq mi</td>\n",
       "      <td>3,276/km2</td>\n",
       "      <td>34°01′10″N 118°24′39″W﻿ / ﻿34.0194°N 118.4108°...</td>\n",
       "    </tr>\n",
       "    <tr>\n",
       "      <th>2</th>\n",
       "      <td>3</td>\n",
       "      <td>Chicago</td>\n",
       "      <td>Illinois</td>\n",
       "      <td>2,705,994</td>\n",
       "      <td>2,695,598</td>\n",
       "      <td>+0.39%</td>\n",
       "      <td>227.3 sq mi</td>\n",
       "      <td>588.7 km2</td>\n",
       "      <td>11,900/sq mi</td>\n",
       "      <td>4,600/km2</td>\n",
       "      <td>41°50′15″N 87°40′54″W﻿ / ﻿41.8376°N 87.6818°W﻿...</td>\n",
       "    </tr>\n",
       "    <tr>\n",
       "      <th>3</th>\n",
       "      <td>4</td>\n",
       "      <td>Houston</td>\n",
       "      <td>Texas</td>\n",
       "      <td>2,325,502</td>\n",
       "      <td>2,100,263</td>\n",
       "      <td>+10.72%</td>\n",
       "      <td>637.5 sq mi</td>\n",
       "      <td>1,651.1 km2</td>\n",
       "      <td>3,613/sq mi</td>\n",
       "      <td>1,395/km2</td>\n",
       "      <td>29°47′12″N 95°23′27″W﻿ / ﻿29.7866°N 95.3909°W﻿...</td>\n",
       "    </tr>\n",
       "    <tr>\n",
       "      <th>4</th>\n",
       "      <td>5</td>\n",
       "      <td>Phoenix</td>\n",
       "      <td>Arizona</td>\n",
       "      <td>1,660,272</td>\n",
       "      <td>1,445,632</td>\n",
       "      <td>+14.85%</td>\n",
       "      <td>517.6 sq mi</td>\n",
       "      <td>1,340.6 km2</td>\n",
       "      <td>3,120/sq mi</td>\n",
       "      <td>1,200/km2</td>\n",
       "      <td>33°34′20″N 112°05′24″W﻿ / ﻿33.5722°N 112.0901°...</td>\n",
       "    </tr>\n",
       "  </tbody>\n",
       "</table>\n",
       "</div>"
      ],
      "text/plain": [
       "   2018rank           City       State 2018estimate 2010Census   Change  \\\n",
       "0         1  New York City    New York    8,398,748  8,175,133   +2.74%   \n",
       "1         2    Los Angeles  California    3,990,456  3,792,621   +5.22%   \n",
       "2         3        Chicago    Illinois    2,705,994  2,695,598   +0.39%   \n",
       "3         4        Houston       Texas    2,325,502  2,100,263  +10.72%   \n",
       "4         5        Phoenix     Arizona    1,660,272  1,445,632  +14.85%   \n",
       "\n",
       "  2016 land area 2016 land area.1 2016 population density  \\\n",
       "0    301.5 sq mi        780.9 km2            28,317/sq mi   \n",
       "1    468.7 sq mi      1,213.9 km2             8,484/sq mi   \n",
       "2    227.3 sq mi        588.7 km2            11,900/sq mi   \n",
       "3    637.5 sq mi      1,651.1 km2             3,613/sq mi   \n",
       "4    517.6 sq mi      1,340.6 km2             3,120/sq mi   \n",
       "\n",
       "  2016 population density.1                                           Location  \n",
       "0                10,933/km2  40°39′49″N 73°56′19″W﻿ / ﻿40.6635°N 73.9387°W﻿...  \n",
       "1                 3,276/km2  34°01′10″N 118°24′39″W﻿ / ﻿34.0194°N 118.4108°...  \n",
       "2                 4,600/km2  41°50′15″N 87°40′54″W﻿ / ﻿41.8376°N 87.6818°W﻿...  \n",
       "3                 1,395/km2  29°47′12″N 95°23′27″W﻿ / ﻿29.7866°N 95.3909°W﻿...  \n",
       "4                 1,200/km2  33°34′20″N 112°05′24″W﻿ / ﻿33.5722°N 112.0901°...  "
      ]
     },
     "execution_count": 3,
     "metadata": {},
     "output_type": "execute_result"
    }
   ],
   "source": [
    "df_cities.head(5)"
   ]
  },
  {
   "cell_type": "code",
   "execution_count": 4,
   "metadata": {},
   "outputs": [
    {
     "data": {
      "text/html": [
       "<div>\n",
       "<style scoped>\n",
       "    .dataframe tbody tr th:only-of-type {\n",
       "        vertical-align: middle;\n",
       "    }\n",
       "\n",
       "    .dataframe tbody tr th {\n",
       "        vertical-align: top;\n",
       "    }\n",
       "\n",
       "    .dataframe thead th {\n",
       "        text-align: right;\n",
       "    }\n",
       "</style>\n",
       "<table border=\"1\" class=\"dataframe\">\n",
       "  <thead>\n",
       "    <tr style=\"text-align: right;\">\n",
       "      <th></th>\n",
       "      <th>Rank</th>\n",
       "      <th>City</th>\n",
       "      <th>State</th>\n",
       "      <th>Land area (sq mi)</th>\n",
       "      <th>Land area (km2)</th>\n",
       "      <th>Water area (sq mi)</th>\n",
       "      <th>Water area (km2)</th>\n",
       "      <th>Total area (sq mi)</th>\n",
       "      <th>Total area (km2)</th>\n",
       "      <th>Population (2010)</th>\n",
       "    </tr>\n",
       "  </thead>\n",
       "  <tbody>\n",
       "    <tr>\n",
       "      <th>0</th>\n",
       "      <td>1</td>\n",
       "      <td>Sitka</td>\n",
       "      <td>Alaska</td>\n",
       "      <td>2,870.3</td>\n",
       "      <td>7,434</td>\n",
       "      <td>1,941.0</td>\n",
       "      <td>5,027</td>\n",
       "      <td>4,811.4</td>\n",
       "      <td>12,461</td>\n",
       "      <td>8,881</td>\n",
       "    </tr>\n",
       "    <tr>\n",
       "      <th>1</th>\n",
       "      <td>2</td>\n",
       "      <td>Juneau</td>\n",
       "      <td>Alaska</td>\n",
       "      <td>2,701.9</td>\n",
       "      <td>6,998</td>\n",
       "      <td>552.0</td>\n",
       "      <td>1,430</td>\n",
       "      <td>3,253.9</td>\n",
       "      <td>8,428</td>\n",
       "      <td>31,275</td>\n",
       "    </tr>\n",
       "    <tr>\n",
       "      <th>2</th>\n",
       "      <td>3</td>\n",
       "      <td>Wrangell</td>\n",
       "      <td>Alaska</td>\n",
       "      <td>2,541.5</td>\n",
       "      <td>6,582</td>\n",
       "      <td>920.6</td>\n",
       "      <td>2,384</td>\n",
       "      <td>3,462.1</td>\n",
       "      <td>8,967</td>\n",
       "      <td>2,369</td>\n",
       "    </tr>\n",
       "    <tr>\n",
       "      <th>3</th>\n",
       "      <td>4</td>\n",
       "      <td>Anchorage</td>\n",
       "      <td>Alaska</td>\n",
       "      <td>1,704.7</td>\n",
       "      <td>4,415</td>\n",
       "      <td>256.3</td>\n",
       "      <td>664</td>\n",
       "      <td>1,961.0</td>\n",
       "      <td>5,079</td>\n",
       "      <td>291,826</td>\n",
       "    </tr>\n",
       "    <tr>\n",
       "      <th>4</th>\n",
       "      <td>5</td>\n",
       "      <td>Jacksonville</td>\n",
       "      <td>Florida</td>\n",
       "      <td>747.0</td>\n",
       "      <td>1,935</td>\n",
       "      <td>127.6</td>\n",
       "      <td>330</td>\n",
       "      <td>874.6</td>\n",
       "      <td>2,265</td>\n",
       "      <td>821,784</td>\n",
       "    </tr>\n",
       "  </tbody>\n",
       "</table>\n",
       "</div>"
      ],
      "text/plain": [
       "   Rank          City    State Land area (sq mi) Land area (km2)  \\\n",
       "0     1         Sitka   Alaska           2,870.3           7,434   \n",
       "1     2        Juneau   Alaska           2,701.9           6,998   \n",
       "2     3      Wrangell   Alaska           2,541.5           6,582   \n",
       "3     4     Anchorage   Alaska           1,704.7           4,415   \n",
       "4     5  Jacksonville  Florida             747.0           1,935   \n",
       "\n",
       "  Water area (sq mi) Water area (km2) Total area (sq mi) Total area (km2)  \\\n",
       "0            1,941.0            5,027            4,811.4           12,461   \n",
       "1              552.0            1,430            3,253.9            8,428   \n",
       "2              920.6            2,384            3,462.1            8,967   \n",
       "3              256.3              664            1,961.0            5,079   \n",
       "4              127.6              330              874.6            2,265   \n",
       "\n",
       "  Population (2010)  \n",
       "0             8,881  \n",
       "1            31,275  \n",
       "2             2,369  \n",
       "3           291,826  \n",
       "4           821,784  "
      ]
     },
     "execution_count": 4,
     "metadata": {},
     "output_type": "execute_result"
    }
   ],
   "source": [
    "df_areas.head(5)"
   ]
  },
  {
   "cell_type": "markdown",
   "metadata": {},
   "source": [
    "In order to include data from another source to our initial \"df_cities\" table we can do a join with \"df_areas\". However, before doing so we need a \"key\" to uniquely identify each city. I will consider the pair \"City\" and \"State\" columns as a unique identifier for any given city:\n",
    "\n",
    "Note I avoided using just the city name as a unique identifier. For instance, 34 States have a city named Springfield in the US. This might seem irrelevant in this toy example but could be important to avoid meaningless matches if we were, for example, to scale the problem to \"Cities Around the World\".\n",
    "\n",
    "1) Take the City and State columns from both tables as a common unique identifier \n",
    "\n",
    "2) Transform every character to lower case and remove spaces to standarize our keys.\n",
    "\n",
    "3) Perfom the join. I will choose left join, with \"df_cities\" on the left. Here I am assuming that \"df_areas\" information is not relevant if any pair of keys is not present in \"df_cities\"."
   ]
  },
  {
   "cell_type": "code",
   "execution_count": 5,
   "metadata": {},
   "outputs": [
    {
     "data": {
      "text/plain": [
       "Rank                        1\n",
       "City                    Sitka\n",
       "State                  Alaska\n",
       "Land area (sq mi)     2,870.3\n",
       "Land area (km2)         7,434\n",
       "Water area (sq mi)    1,941.0\n",
       "Water area (km2)        5,027\n",
       "Total area (sq mi)    4,811.4\n",
       "Total area (km2)       12,461\n",
       "Population (2010)       8,881\n",
       "city_key                sitka\n",
       "state_key              alaska\n",
       "Name: 0, dtype: object"
      ]
     },
     "execution_count": 5,
     "metadata": {},
     "output_type": "execute_result"
    }
   ],
   "source": [
    "# Add a join_key column according to the instructions above\n",
    "df_cities = df_cities.assign(city_key = df_cities.apply(lambda row: str.lower(str(row['City'])).replace(' ', ''), axis = 1))\n",
    "df_areas = df_areas.assign(city_key = df_areas.apply(lambda row: str.lower(str(row['City'])).replace(' ', ''), axis = 1))\n",
    "\n",
    "df_cities = df_cities.assign(state_key = df_cities.apply(lambda row: str.lower(str(row['State'])).replace(' ', ''), axis = 1))\n",
    "df_areas = df_areas.assign(state_key = df_areas.apply(lambda row: str.lower(str(row['State'])).replace(' ', ''), axis = 1))\n",
    "\n",
    "\n",
    "# Example row\n",
    "df_cities.iloc[0,:]\n",
    "df_areas.iloc[0,:]\n"
   ]
  },
  {
   "cell_type": "code",
   "execution_count": 10,
   "metadata": {},
   "outputs": [],
   "source": [
    "# Perfom Left Join\n",
    "df_merge = df_cities.merge(df_areas, left_on = ['city_key','state_key'] , right_on =['city_key','state_key'], how = 'left')\n",
    "\n",
    "# Clean resulting table by dropping any duplicate or redundant column\n",
    "df_merge.drop(['City_y', 'State_y', '2016 land area.1', '2016 population density.1', 'Population (2010)'], inplace = True, axis = 1)\n",
    "df_merge.head(5)\n",
    "\n",
    "# Extract latitude \n",
    "import re\n",
    "\n"
   ]
  },
  {
   "cell_type": "code",
   "execution_count": 7,
   "metadata": {},
   "outputs": [
    {
     "name": "stdout",
     "output_type": "stream",
     "text": [
      "Total number of rows with extended data: 103\n",
      "Total number of rows in table: 314\n"
     ]
    }
   ],
   "source": [
    "# Count number of non-null extensions after join\n",
    "print('Total number of rows with extended data:',df_merge['Rank'].count())\n",
    "\n",
    "# Total number of rows on DataFrame\n",
    "print('Total number of rows in table:', df_merge['City_x'].count())"
   ]
  },
  {
   "cell_type": "markdown",
   "metadata": {},
   "source": [
    "### Data Visualization"
   ]
  },
  {
   "cell_type": "code",
   "execution_count": 11,
   "metadata": {},
   "outputs": [
    {
     "ename": "ModuleNotFoundError",
     "evalue": "No module named 'geopandas'",
     "output_type": "error",
     "traceback": [
      "\u001b[0;31m---------------------------------------------------------------------------\u001b[0m",
      "\u001b[0;31mModuleNotFoundError\u001b[0m                       Traceback (most recent call last)",
      "\u001b[0;32m<ipython-input-11-a0986e32017b>\u001b[0m in \u001b[0;36m<module>\u001b[0;34m\u001b[0m\n\u001b[1;32m      2\u001b[0m \u001b[0;32mimport\u001b[0m \u001b[0mmatplotlib\u001b[0m\u001b[0;34m.\u001b[0m\u001b[0mpyplot\u001b[0m \u001b[0;32mas\u001b[0m \u001b[0mplt\u001b[0m\u001b[0;34m\u001b[0m\u001b[0;34m\u001b[0m\u001b[0m\n\u001b[1;32m      3\u001b[0m \u001b[0;32mimport\u001b[0m \u001b[0mdescartes\u001b[0m\u001b[0;34m\u001b[0m\u001b[0;34m\u001b[0m\u001b[0m\n\u001b[0;32m----> 4\u001b[0;31m \u001b[0;32mimport\u001b[0m \u001b[0mgeopandas\u001b[0m \u001b[0;32mas\u001b[0m \u001b[0mgdp\u001b[0m\u001b[0;34m\u001b[0m\u001b[0;34m\u001b[0m\u001b[0m\n\u001b[0m\u001b[1;32m      5\u001b[0m \u001b[0;32mfrom\u001b[0m \u001b[0mshapely\u001b[0m\u001b[0;34m.\u001b[0m\u001b[0mgeometry\u001b[0m \u001b[0;32mimport\u001b[0m \u001b[0mPoint\u001b[0m\u001b[0;34m,\u001b[0m \u001b[0mPolygon\u001b[0m\u001b[0;34m\u001b[0m\u001b[0;34m\u001b[0m\u001b[0m\n\u001b[1;32m      6\u001b[0m \u001b[0;34m\u001b[0m\u001b[0m\n",
      "\u001b[0;31mModuleNotFoundError\u001b[0m: No module named 'geopandas'"
     ]
    }
   ],
   "source": [
    "import pandas as pd\n",
    "import matplotlib.pyplot as plt\n",
    "import descartes\n",
    "import geopandas as gdp\n",
    "from shapely.geometry import Point, Polygon\n",
    "\n",
    "%matplotlib inline\n"
   ]
  },
  {
   "cell_type": "code",
   "execution_count": null,
   "metadata": {},
   "outputs": [],
   "source": []
  },
  {
   "cell_type": "code",
   "execution_count": 89,
   "metadata": {},
   "outputs": [],
   "source": [
    "# Save everything to .csv file\n",
    "df_merge.to_csv('topos_table.csv', index = True)"
   ]
  },
  {
   "cell_type": "code",
   "execution_count": null,
   "metadata": {},
   "outputs": [],
   "source": []
  }
 ],
 "metadata": {
  "kernelspec": {
   "display_name": "Python 3",
   "language": "python",
   "name": "python3"
  },
  "language_info": {
   "codemirror_mode": {
    "name": "ipython",
    "version": 3
   },
   "file_extension": ".py",
   "mimetype": "text/x-python",
   "name": "python",
   "nbconvert_exporter": "python",
   "pygments_lexer": "ipython3",
   "version": "3.6.8"
  }
 },
 "nbformat": 4,
 "nbformat_minor": 2
}
